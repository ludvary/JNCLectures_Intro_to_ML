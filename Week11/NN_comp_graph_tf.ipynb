{
  "nbformat": 4,
  "nbformat_minor": 0,
  "metadata": {
    "colab": {
      "provenance": [],
      "authorship_tag": "ABX9TyPVueUkd87gsSBSxH3nc2bi",
      "include_colab_link": true
    },
    "kernelspec": {
      "name": "python3",
      "display_name": "Python 3"
    },
    "language_info": {
      "name": "python"
    }
  },
  "cells": [
    {
      "cell_type": "markdown",
      "metadata": {
        "id": "view-in-github",
        "colab_type": "text"
      },
      "source": [
        "<a href=\"https://colab.research.google.com/github/rajdeepbanerjee-git/JNCLectures_Intro_to_ML/blob/main/Week11/NN_comp_graph_tf.ipynb\" target=\"_parent\"><img src=\"https://colab.research.google.com/assets/colab-badge.svg\" alt=\"Open In Colab\"/></a>"
      ]
    },
    {
      "cell_type": "code",
      "source": [
        "import numpy as np\n",
        "import matplotlib.pyplot as plt\n",
        "%matplotlib inline\n",
        "\n",
        "import tensorflow as tf"
      ],
      "metadata": {
        "id": "n2alhrPQyla1"
      },
      "execution_count": null,
      "outputs": []
    },
    {
      "cell_type": "code",
      "source": [
        "x = np.array([ [0, 1], [1, 0], [1, 1],[0, 0] ]).T\n",
        "y = np.array([[1], [1], [0], [0]]).T\n",
        "print(x.shape,y.shape)"
      ],
      "metadata": {
        "colab": {
          "base_uri": "https://localhost:8080/"
        },
        "id": "Kf---kBdylYv",
        "outputId": "a6113659-09bd-43b9-9893-4097e2751d32"
      },
      "execution_count": null,
      "outputs": [
        {
          "output_type": "stream",
          "name": "stdout",
          "text": [
            "(2, 4) (1, 4)\n"
          ]
        }
      ]
    },
    {
      "cell_type": "code",
      "source": [
        "num_input = 2\n",
        "num_hidden = 5\n",
        "num_output = 1"
      ],
      "metadata": {
        "id": "3QfTUbylylWB"
      },
      "execution_count": null,
      "outputs": []
    },
    {
      "cell_type": "code",
      "source": [
        "W1_tf = tf.Variable(initial_value = tf.random.uniform(shape = (num_input, num_hidden)))\n",
        "W2_tf = tf.Variable(initial_value = tf.random.uniform(shape = (num_hidden, num_output)))"
      ],
      "metadata": {
        "id": "EzeZJFlHylTr"
      },
      "execution_count": null,
      "outputs": []
    },
    {
      "cell_type": "code",
      "source": [
        "def model(inputs):\n",
        "  return tf.sigmoid(tf.matmul(tf.sigmoid(tf.matmul(inputs, W1_tf)), W2_tf))"
      ],
      "metadata": {
        "id": "OtG7IAqFylQ2"
      },
      "execution_count": null,
      "outputs": []
    },
    {
      "cell_type": "code",
      "source": [
        "x = x.astype(np.float32)\n",
        "y = y.astype(np.float32)"
      ],
      "metadata": {
        "id": "tCzkzNe6zXQ8"
      },
      "execution_count": null,
      "outputs": []
    },
    {
      "cell_type": "code",
      "source": [
        "def square_loss(targets, predictions):\n",
        "  per_sample_losses = tf.square(targets - predictions)\n",
        "  return tf.reduce_mean(per_sample_losses)"
      ],
      "metadata": {
        "id": "ot0coqXnzXOs"
      },
      "execution_count": null,
      "outputs": []
    },
    {
      "cell_type": "code",
      "source": [
        "# prtevious metrod for training step\n",
        "\n",
        "learning_rate = 0.01\n",
        "\n",
        "def training_step(inputs, targets):\n",
        "  with tf.GradientTape(persistent=True) as tape:\n",
        "    predictions = model(inputs)\n",
        "    loss = square_loss(predictions, targets)\n",
        "  grad_loss_wrt_W1 = tape.gradient(loss, W1_tf)\n",
        "  grad_loss_wrt_W2 = tape.gradient(loss, W2_tf)\n",
        "  W1_tf.assign_sub(grad_loss_wrt_W1 * learning_rate)\n",
        "  W2_tf.assign_sub(grad_loss_wrt_W2 * learning_rate)\n",
        "\n",
        "  return loss\n"
      ],
      "metadata": {
        "id": "Hm9DW_-GzXLr"
      },
      "execution_count": null,
      "outputs": []
    },
    {
      "cell_type": "code",
      "source": [
        "# breakdown to see derivatives\n",
        "def training_step(inputs, targets):\n",
        "  with tf.GradientTape(persistent=True) as tape:\n",
        "      z1_ = tf.matmul(inputs, W1_tf)\n",
        "      h1_ = tf.sigmoid(z1_)\n",
        "      z2_ = tf.matmul(h1_, W2_tf)\n",
        "      predictions = tf.sigmoid(z2_)\n",
        "      loss = square_loss(predictions, targets)\n",
        "\n",
        "  # calculate individual gradients in the graph\n",
        "  dL_dh2 = tape.gradient(loss, predictions)\n",
        "  dh2_dz2 = tape.gradient(predictions, z2_)\n",
        "  dz2_dw2 = tape.gradient(z2_, W2_tf)\n",
        "  dz2_dh1 = tape.gradient(z2_, h1_)\n",
        "  dh1_dz1 = tape.gradient(h1_, z1_)\n",
        "  dz1_dw1 = tape.gradient(z1_, W1_tf)\n",
        "  derivatives = [dL_dh2, dh2_dz2, dz2_dw2, dz2_dh1, dh1_dz1, dz1_dw1]\n",
        "\n",
        "  # calculate weight updates\n",
        "  grad_loss_wrt_W1 = tape.gradient(loss, W1_tf)\n",
        "  grad_loss_wrt_W2 = tape.gradient(loss, W2_tf)\n",
        "  W1_tf.assign_sub(grad_loss_wrt_W1 * learning_rate)\n",
        "  W2_tf.assign_sub(grad_loss_wrt_W2 * learning_rate)\n",
        "\n",
        "  return derivatives, grad_loss_wrt_W2, grad_loss_wrt_W1\n"
      ],
      "metadata": {
        "id": "V3eNANcizXIu"
      },
      "execution_count": 52,
      "outputs": []
    },
    {
      "cell_type": "code",
      "source": [
        "learning_rate = 0.01\n",
        "num_iterations = 2\n",
        "for step in range(num_iterations):\n",
        "  print(training_step(inputs = x.T, targets = y))\n"
      ],
      "metadata": {
        "colab": {
          "base_uri": "https://localhost:8080/"
        },
        "id": "z1NTSLgyylOE",
        "outputId": "522346d8-799e-4249-a2c1-c59774cc6949"
      },
      "execution_count": 53,
      "outputs": [
        {
          "output_type": "stream",
          "name": "stdout",
          "text": [
            "([<tf.Tensor: shape=(4, 1), dtype=float32, numpy=\n",
            "array([[0.09918898],\n",
            "       [0.0973295 ],\n",
            "       [0.10999888],\n",
            "       [0.08538416]], dtype=float32)>, <tf.Tensor: shape=(4, 1), dtype=float32, numpy=\n",
            "array([[0.21064618],\n",
            "       [0.21210788],\n",
            "       [0.20160098],\n",
            "       [0.22083817]], dtype=float32)>, <tf.Tensor: shape=(5, 1), dtype=float32, numpy=\n",
            "array([[2.4191177],\n",
            "       [2.7733495],\n",
            "       [2.4692047],\n",
            "       [2.355501 ],\n",
            "       [2.286208 ]], dtype=float32)>, <tf.Tensor: shape=(4, 5), dtype=float32, numpy=\n",
            "array([[ 0.07431445, -0.00742008,  0.23206021,  0.21569633,  0.9086732 ],\n",
            "       [ 0.07431445, -0.00742008,  0.23206021,  0.21569633,  0.9086732 ],\n",
            "       [ 0.07431445, -0.00742008,  0.23206021,  0.21569633,  0.9086732 ],\n",
            "       [ 0.07431445, -0.00742008,  0.23206021,  0.21569633,  0.9086732 ]],\n",
            "      dtype=float32)>, <tf.Tensor: shape=(4, 5), dtype=float32, numpy=\n",
            "array([[0.2087895 , 0.20568816, 0.24515685, 0.2267834 , 0.24482241],\n",
            "       [0.2499487 , 0.20707038, 0.22094807, 0.2492806 , 0.24472508],\n",
            "       [0.20633937, 0.12351227, 0.19748309, 0.21891499, 0.22994274],\n",
            "       [0.25      , 0.25      , 0.25      , 0.25      , 0.25      ]],\n",
            "      dtype=float32)>, <tf.Tensor: shape=(2, 5), dtype=float32, numpy=\n",
            "array([[2., 2., 2., 2., 2.],\n",
            "       [2., 2., 2., 2., 2.]], dtype=float32)>], <tf.Tensor: shape=(5, 1), dtype=float32, numpy=\n",
            "array([[0.05030812],\n",
            "       [0.05784754],\n",
            "       [0.05133981],\n",
            "       [0.04893216],\n",
            "       [0.04742847]], dtype=float32)>, <tf.Tensor: shape=(2, 5), dtype=float32, numpy=\n",
            "array([[ 7.2350958e-04, -5.2043164e-05,  2.0747788e-03,  2.1571508e-03,\n",
            "         9.2242807e-03],\n",
            "       [ 6.6423439e-04, -5.2212119e-05,  2.2049467e-03,  2.0691738e-03,\n",
            "         9.2815962e-03]], dtype=float32)>)\n",
            "([<tf.Tensor: shape=(4, 1), dtype=float32, numpy=\n",
            "array([[0.09901297],\n",
            "       [0.09716395],\n",
            "       [0.10980687],\n",
            "       [0.08524287]], dtype=float32)>, <tf.Tensor: shape=(4, 1), dtype=float32, numpy=\n",
            "array([[0.21078573],\n",
            "       [0.21223667],\n",
            "       [0.20176981],\n",
            "       [0.22093461]], dtype=float32)>, <tf.Tensor: shape=(5, 1), dtype=float32, numpy=\n",
            "array([[2.4191117],\n",
            "       [2.7733498],\n",
            "       [2.4691863],\n",
            "       [2.3554816],\n",
            "       [2.28612  ]], dtype=float32)>, <tf.Tensor: shape=(4, 5), dtype=float32, numpy=\n",
            "array([[ 0.07381137, -0.00799856,  0.2315468 ,  0.21520701,  0.90819895],\n",
            "       [ 0.07381137, -0.00799856,  0.2315468 ,  0.21520701,  0.90819895],\n",
            "       [ 0.07381137, -0.00799856,  0.2315468 ,  0.21520701,  0.90819895],\n",
            "       [ 0.07381137, -0.00799856,  0.2315468 ,  0.21520701,  0.90819895]],\n",
            "      dtype=float32)>, <tf.Tensor: shape=(4, 5), dtype=float32, numpy=\n",
            "array([[0.20879005, 0.20568812, 0.24515761, 0.22678483, 0.24482568],\n",
            "       [0.24994873, 0.20707034, 0.22094963, 0.24928088, 0.24472836],\n",
            "       [0.20634058, 0.12351218, 0.19748697, 0.21891825, 0.22995481],\n",
            "       [0.25      , 0.25      , 0.25      , 0.25      , 0.25      ]],\n",
            "      dtype=float32)>, <tf.Tensor: shape=(2, 5), dtype=float32, numpy=\n",
            "array([[2., 2., 2., 2., 2.],\n",
            "       [2., 2., 2., 2., 2.]], dtype=float32)>], <tf.Tensor: shape=(5, 1), dtype=float32, numpy=\n",
            "array([[0.05025437],\n",
            "       [0.05778629],\n",
            "       [0.05128481],\n",
            "       [0.04887954],\n",
            "       [0.04737591]], dtype=float32)>, <tf.Tensor: shape=(2, 5), dtype=float32, numpy=\n",
            "array([[ 7.1788952e-04, -5.6043107e-05,  2.0681373e-03,  2.1501114e-03,\n",
            "         9.2105363e-03],\n",
            "       [ 6.5907487e-04, -5.6224388e-05,  2.1978493e-03,  2.0624164e-03,\n",
            "         9.2676720e-03]], dtype=float32)>)\n"
          ]
        }
      ]
    },
    {
      "cell_type": "markdown",
      "source": [
        "#### Assignment:\n",
        "Use the individual gradients found using gradient tape to update W1 and W2 instead of directly using gradient of loss wrt W1 and W2."
      ],
      "metadata": {
        "id": "8sXwWGy8GbXX"
      }
    },
    {
      "cell_type": "code",
      "source": [],
      "metadata": {
        "id": "EjLfVMfBGbHr"
      },
      "execution_count": null,
      "outputs": []
    },
    {
      "cell_type": "code",
      "source": [],
      "metadata": {
        "id": "fK3ArzCz4Jf3"
      },
      "execution_count": null,
      "outputs": []
    },
    {
      "cell_type": "code",
      "source": [],
      "metadata": {
        "id": "81HTxTWK4JdL"
      },
      "execution_count": null,
      "outputs": []
    },
    {
      "cell_type": "code",
      "source": [],
      "metadata": {
        "id": "-JESxmmC4JaX"
      },
      "execution_count": null,
      "outputs": []
    },
    {
      "cell_type": "code",
      "source": [],
      "metadata": {
        "id": "7vJPMzZM4JXz"
      },
      "execution_count": null,
      "outputs": []
    },
    {
      "cell_type": "code",
      "execution_count": null,
      "metadata": {
        "id": "yIv2Vt4Mykxu"
      },
      "outputs": [],
      "source": []
    }
  ]
}