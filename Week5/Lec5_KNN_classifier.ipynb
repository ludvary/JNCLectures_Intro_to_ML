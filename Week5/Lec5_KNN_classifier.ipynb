{
  "nbformat": 4,
  "nbformat_minor": 0,
  "metadata": {
    "colab": {
      "provenance": [],
      "authorship_tag": "ABX9TyNZ2f/n8F3MPiL/wc2T5IO6",
      "include_colab_link": true
    },
    "kernelspec": {
      "name": "python3",
      "display_name": "Python 3"
    },
    "language_info": {
      "name": "python"
    }
  },
  "cells": [
    {
      "cell_type": "markdown",
      "metadata": {
        "id": "view-in-github",
        "colab_type": "text"
      },
      "source": [
        "<a href=\"https://colab.research.google.com/github/rajdeepbanerjee-git/JNCLectures_Intro_to_ML/blob/main/Week5/Lec5_KNN_classifier.ipynb\" target=\"_parent\"><img src=\"https://colab.research.google.com/assets/colab-badge.svg\" alt=\"Open In Colab\"/></a>"
      ]
    },
    {
      "cell_type": "markdown",
      "source": [
        "You can write the whole KNN classification algorithm in the follwing simple steps:\n",
        "1. calculate distances of the given data point with all the training data points\n",
        "2. sort in the ascending order\n",
        "3. take the top k data points. Steps 2 and 3 ensure that we take the k nearest data points to the given data point\n",
        "4. Perform a majority voting on the class labels of these k data points. The majority vote is your predicted class label.\n",
        "\n",
        "We will write 3 functions to implement the above steps, and a final function to put all these together.\n",
        "\n"
      ],
      "metadata": {
        "id": "oy99tMjRQw0-"
      }
    },
    {
      "cell_type": "code",
      "source": [
        "import numpy as np\n",
        "import pandas as pd\n",
        "from sklearn import datasets\n",
        "import scipy.stats as st\n",
        "\n",
        "from sklearn.model_selection import train_test_split"
      ],
      "metadata": {
        "id": "tmkijit2COAQ"
      },
      "execution_count": 1,
      "outputs": []
    },
    {
      "cell_type": "code",
      "source": [
        "iris = datasets.load_iris()\n",
        "list(iris.keys())"
      ],
      "metadata": {
        "colab": {
          "base_uri": "https://localhost:8080/"
        },
        "id": "O02aNqh8CN9Y",
        "outputId": "a4e94d70-96bc-4aaf-9f3c-b3ef750612a3"
      },
      "execution_count": 2,
      "outputs": [
        {
          "output_type": "execute_result",
          "data": {
            "text/plain": [
              "['data',\n",
              " 'target',\n",
              " 'frame',\n",
              " 'target_names',\n",
              " 'DESCR',\n",
              " 'feature_names',\n",
              " 'filename',\n",
              " 'data_module']"
            ]
          },
          "metadata": {},
          "execution_count": 2
        }
      ]
    },
    {
      "cell_type": "code",
      "source": [
        "# get data\n",
        "X = iris['data']\n",
        "y = iris['target']\n",
        "X_train, X_test, y_train, y_test = train_test_split(X, y, test_size=0.33, random_state=42)\n",
        "print(X_train.shape, X_test.shape, y_train.shape, y_test.shape)"
      ],
      "metadata": {
        "colab": {
          "base_uri": "https://localhost:8080/"
        },
        "id": "7-aBIh3cCN6o",
        "outputId": "cc904c35-7e18-47fe-971f-40ddaa6483f0"
      },
      "execution_count": 3,
      "outputs": [
        {
          "output_type": "stream",
          "name": "stdout",
          "text": [
            "(100, 4) (50, 4) (100,) (50,)\n"
          ]
        }
      ]
    },
    {
      "cell_type": "code",
      "source": [
        "#Step 1: let's create a function that given a test vector calculates distances with all training data points\n",
        "\n",
        "def calc_euclidean_distances(given_vector, train_data):\n",
        "  list_distances = [np.linalg.norm((train_data[i] - given_vector), ord = 1) \\\n",
        "                    for i in range(len(train_data))]\n",
        "  return list_distances"
      ],
      "metadata": {
        "id": "mSLtb6oCCN3t"
      },
      "execution_count": 4,
      "outputs": []
    },
    {
      "cell_type": "code",
      "source": [
        "# Step 2 and 3: now we will create a function which, given a list of distances,\n",
        "# sorts it and returns top k distances and their original indices\n",
        "\n",
        "def calc_top_k(list_distances, top_k):\n",
        "\n",
        "  zipped_sorted = sorted(zip(list_distances, range(len(list_distances)))) # by default, sorts in the ascending order\n",
        "  topk_distances = [element[0] for element in zipped_sorted[0:top_k]]\n",
        "  topk_dist_indices = [element[1] for element in zipped_sorted[0:top_k]]\n",
        "\n",
        "  return topk_distances, topk_dist_indices"
      ],
      "metadata": {
        "id": "BbwW1SM0CN0-"
      },
      "execution_count": 5,
      "outputs": []
    },
    {
      "cell_type": "code",
      "source": [
        "# Step 4: now we will get the corresponding class labels for these top k neighbours from the training data and get the majority score\n",
        "\n",
        "def get_class_label(topk_dist_indices, train_labels):\n",
        "  return st.mode(train_labels[topk_dist_indices])[0]"
      ],
      "metadata": {
        "id": "fkUwTqMkCNvk"
      },
      "execution_count": 6,
      "outputs": []
    },
    {
      "cell_type": "code",
      "source": [
        "# wrap it up in a final function\n",
        "# provide train_data, train_labels, top_k and a test vector\n",
        "# it should provide class it belongs to\n",
        "\n",
        "def predict_class_label(given_vector, train_data, train_labels, top_k):\n",
        "\n",
        "  # step 1: get all the distances of the training data points wrt the given test vector\n",
        "  list_dist = calc_euclidean_distances(given_vector = given_vector,\n",
        "                                       train_data = train_data)\n",
        "\n",
        "  # step 2: sort and get the top k data points closest to the given vector\n",
        "  topk_list_dist, topk_dist_ind = calc_top_k(list_distances = list_dist, top_k = top_k)\n",
        "\n",
        "  # step 3: use majority vote to calculate the class from the class of the top k data points closest to the given test vector\n",
        "  predicted_class = get_class_label(topk_dist_indices = topk_dist_ind,\n",
        "                                    train_labels = train_labels)\n",
        "\n",
        "  return predicted_class"
      ],
      "metadata": {
        "id": "dUGfCym-LZFZ"
      },
      "execution_count": 8,
      "outputs": []
    },
    {
      "cell_type": "code",
      "source": [
        "# test it out\n",
        "print(\"test indices to choose from:\", range(len(y_test)))\n",
        "test_index = int(input(\"given test vector index:\"))\n",
        "predicted_class = predict_class_label(given_vector = X_test[test_index],\n",
        "                                      train_data = X_train,\n",
        "                                      train_labels = y_train,\n",
        "                                      top_k = 5)\n",
        "print(f\"original class: {y_test[test_index]} \\n predicted class: {predicted_class}\")"
      ],
      "metadata": {
        "colab": {
          "base_uri": "https://localhost:8080/"
        },
        "id": "GFPQhUo7LZC1",
        "outputId": "46740978-e2d0-4054-ff10-78a3fb2e8aa7"
      },
      "execution_count": 14,
      "outputs": [
        {
          "output_type": "stream",
          "name": "stdout",
          "text": [
            "test indices to choose from: range(0, 50)\n",
            "given test vector index:10\n",
            "original class: 2 \n",
            " predicted class: 2\n"
          ]
        }
      ]
    },
    {
      "cell_type": "markdown",
      "source": [
        "#### Assignment: Write a function to calculate the confusion matrix, precision, recall, f1-score using the predict_class_label() function on the test dataset"
      ],
      "metadata": {
        "id": "HSEsGE_ROpa4"
      }
    },
    {
      "cell_type": "code",
      "source": [],
      "metadata": {
        "id": "M9oHNs9fLZAI"
      },
      "execution_count": 48,
      "outputs": []
    },
    {
      "cell_type": "code",
      "source": [],
      "metadata": {
        "id": "MMwhKENXLY8s"
      },
      "execution_count": null,
      "outputs": []
    },
    {
      "cell_type": "code",
      "source": [],
      "metadata": {
        "id": "R8lZRmreLY3Y"
      },
      "execution_count": null,
      "outputs": []
    },
    {
      "cell_type": "code",
      "source": [],
      "metadata": {
        "id": "APs45MBcCNp3"
      },
      "execution_count": null,
      "outputs": []
    },
    {
      "cell_type": "code",
      "source": [],
      "metadata": {
        "id": "Ey_mbX_FCNnO"
      },
      "execution_count": null,
      "outputs": []
    },
    {
      "cell_type": "code",
      "execution_count": null,
      "metadata": {
        "id": "xpiRyi5nCJ6K"
      },
      "outputs": [],
      "source": []
    }
  ]
}