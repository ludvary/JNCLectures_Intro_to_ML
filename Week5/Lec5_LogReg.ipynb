{
  "nbformat": 4,
  "nbformat_minor": 0,
  "metadata": {
    "colab": {
      "provenance": [],
      "authorship_tag": "ABX9TyM7X3zFb2I0Hc/vZkNppDZ/",
      "include_colab_link": true
    },
    "kernelspec": {
      "name": "python3",
      "display_name": "Python 3"
    },
    "language_info": {
      "name": "python"
    }
  },
  "cells": [
    {
      "cell_type": "markdown",
      "metadata": {
        "id": "view-in-github",
        "colab_type": "text"
      },
      "source": [
        "<a href=\"https://colab.research.google.com/github/rajdeepbanerjee-git/JNCLectures_Intro_to_ML/blob/main/Week5/Lec5_LogReg.ipynb\" target=\"_parent\"><img src=\"https://colab.research.google.com/assets/colab-badge.svg\" alt=\"Open In Colab\"/></a>"
      ]
    },
    {
      "cell_type": "code",
      "execution_count": 1,
      "metadata": {
        "id": "6sq2t514iKG8"
      },
      "outputs": [],
      "source": [
        "import numpy as np\n",
        "import pandas as pd\n",
        "from sklearn import datasets"
      ]
    },
    {
      "cell_type": "code",
      "source": [
        "iris = datasets.load_iris()\n",
        "list(iris.keys())"
      ],
      "metadata": {
        "colab": {
          "base_uri": "https://localhost:8080/"
        },
        "id": "EMq7o58OiaVY",
        "outputId": "698149d1-91c4-4d55-9f2c-0d31e389b755"
      },
      "execution_count": 2,
      "outputs": [
        {
          "output_type": "execute_result",
          "data": {
            "text/plain": [
              "['data',\n",
              " 'target',\n",
              " 'frame',\n",
              " 'target_names',\n",
              " 'DESCR',\n",
              " 'feature_names',\n",
              " 'filename',\n",
              " 'data_module']"
            ]
          },
          "metadata": {},
          "execution_count": 2
        }
      ]
    },
    {
      "cell_type": "code",
      "source": [
        "print(iris.DESCR)"
      ],
      "metadata": {
        "colab": {
          "base_uri": "https://localhost:8080/"
        },
        "id": "XJHc1DMziaSN",
        "outputId": "ec4e7e52-2a02-4ef4-c2d0-588cb447bca0"
      },
      "execution_count": 3,
      "outputs": [
        {
          "output_type": "stream",
          "name": "stdout",
          "text": [
            ".. _iris_dataset:\n",
            "\n",
            "Iris plants dataset\n",
            "--------------------\n",
            "\n",
            "**Data Set Characteristics:**\n",
            "\n",
            "    :Number of Instances: 150 (50 in each of three classes)\n",
            "    :Number of Attributes: 4 numeric, predictive attributes and the class\n",
            "    :Attribute Information:\n",
            "        - sepal length in cm\n",
            "        - sepal width in cm\n",
            "        - petal length in cm\n",
            "        - petal width in cm\n",
            "        - class:\n",
            "                - Iris-Setosa\n",
            "                - Iris-Versicolour\n",
            "                - Iris-Virginica\n",
            "                \n",
            "    :Summary Statistics:\n",
            "\n",
            "    ============== ==== ==== ======= ===== ====================\n",
            "                    Min  Max   Mean    SD   Class Correlation\n",
            "    ============== ==== ==== ======= ===== ====================\n",
            "    sepal length:   4.3  7.9   5.84   0.83    0.7826\n",
            "    sepal width:    2.0  4.4   3.05   0.43   -0.4194\n",
            "    petal length:   1.0  6.9   3.76   1.76    0.9490  (high!)\n",
            "    petal width:    0.1  2.5   1.20   0.76    0.9565  (high!)\n",
            "    ============== ==== ==== ======= ===== ====================\n",
            "\n",
            "    :Missing Attribute Values: None\n",
            "    :Class Distribution: 33.3% for each of 3 classes.\n",
            "    :Creator: R.A. Fisher\n",
            "    :Donor: Michael Marshall (MARSHALL%PLU@io.arc.nasa.gov)\n",
            "    :Date: July, 1988\n",
            "\n",
            "The famous Iris database, first used by Sir R.A. Fisher. The dataset is taken\n",
            "from Fisher's paper. Note that it's the same as in R, but not as in the UCI\n",
            "Machine Learning Repository, which has two wrong data points.\n",
            "\n",
            "This is perhaps the best known database to be found in the\n",
            "pattern recognition literature.  Fisher's paper is a classic in the field and\n",
            "is referenced frequently to this day.  (See Duda & Hart, for example.)  The\n",
            "data set contains 3 classes of 50 instances each, where each class refers to a\n",
            "type of iris plant.  One class is linearly separable from the other 2; the\n",
            "latter are NOT linearly separable from each other.\n",
            "\n",
            ".. topic:: References\n",
            "\n",
            "   - Fisher, R.A. \"The use of multiple measurements in taxonomic problems\"\n",
            "     Annual Eugenics, 7, Part II, 179-188 (1936); also in \"Contributions to\n",
            "     Mathematical Statistics\" (John Wiley, NY, 1950).\n",
            "   - Duda, R.O., & Hart, P.E. (1973) Pattern Classification and Scene Analysis.\n",
            "     (Q327.D83) John Wiley & Sons.  ISBN 0-471-22361-1.  See page 218.\n",
            "   - Dasarathy, B.V. (1980) \"Nosing Around the Neighborhood: A New System\n",
            "     Structure and Classification Rule for Recognition in Partially Exposed\n",
            "     Environments\".  IEEE Transactions on Pattern Analysis and Machine\n",
            "     Intelligence, Vol. PAMI-2, No. 1, 67-71.\n",
            "   - Gates, G.W. (1972) \"The Reduced Nearest Neighbor Rule\".  IEEE Transactions\n",
            "     on Information Theory, May 1972, 431-433.\n",
            "   - See also: 1988 MLC Proceedings, 54-64.  Cheeseman et al\"s AUTOCLASS II\n",
            "     conceptual clustering system finds 3 classes in the data.\n",
            "   - Many, many more ...\n"
          ]
        }
      ]
    },
    {
      "cell_type": "code",
      "source": [
        "X = iris[\"data\"][:, 3:]  # petal width\n",
        "y = (iris[\"target\"] == 2).astype(int)  # 1 if Iris virginica, else 0"
      ],
      "metadata": {
        "id": "GFrYw0M3iaPa"
      },
      "execution_count": 4,
      "outputs": []
    },
    {
      "cell_type": "code",
      "source": [
        "X[0:5], y[0:5]"
      ],
      "metadata": {
        "colab": {
          "base_uri": "https://localhost:8080/"
        },
        "id": "KeD4f15liaMU",
        "outputId": "4d0344dd-a484-4739-c85a-2d9c99efba34"
      },
      "execution_count": 5,
      "outputs": [
        {
          "output_type": "execute_result",
          "data": {
            "text/plain": [
              "(array([[0.2],\n",
              "        [0.2],\n",
              "        [0.2],\n",
              "        [0.2],\n",
              "        [0.2]]),\n",
              " array([0, 0, 0, 0, 0]))"
            ]
          },
          "metadata": {},
          "execution_count": 5
        }
      ]
    },
    {
      "cell_type": "code",
      "source": [
        "# adding a constant column for the coefficient\n",
        "X_b = np.c_[np.ones((len(X), 1)), X]\n",
        "X_b[0:5], y[0:5]"
      ],
      "metadata": {
        "colab": {
          "base_uri": "https://localhost:8080/"
        },
        "id": "6a9h7WlKXZY4",
        "outputId": "9b430ed1-f4cd-4712-e366-18df0093943e"
      },
      "execution_count": 6,
      "outputs": [
        {
          "output_type": "execute_result",
          "data": {
            "text/plain": [
              "(array([[1. , 0.2],\n",
              "        [1. , 0.2],\n",
              "        [1. , 0.2],\n",
              "        [1. , 0.2],\n",
              "        [1. , 0.2]]),\n",
              " array([0, 0, 0, 0, 0]))"
            ]
          },
          "metadata": {},
          "execution_count": 6
        }
      ]
    },
    {
      "cell_type": "code",
      "source": [
        "# Batch gradient descent\n",
        "\n",
        "from scipy.special import expit\n",
        "\n",
        "eta = 0.1  # learning rate\n",
        "n_iterations = 1000\n",
        "m = 100\n",
        "\n",
        "theta = np.random.randn(2,1)  # random initialization\n",
        "\n",
        "for iteration in range(n_iterations):\n",
        "    gradients = 1/m * X_b.T.dot(expit(X_b.dot(theta)) - y.reshape(-1,1))\n",
        "    theta = theta - eta * gradients"
      ],
      "metadata": {
        "id": "Q4cIykh5iK6q"
      },
      "execution_count": 7,
      "outputs": []
    },
    {
      "cell_type": "code",
      "source": [
        "theta"
      ],
      "metadata": {
        "colab": {
          "base_uri": "https://localhost:8080/"
        },
        "id": "kfuDXbeYiK3i",
        "outputId": "878aa189-3655-4652-9cf9-427fe8ca2049"
      },
      "execution_count": 8,
      "outputs": [
        {
          "output_type": "execute_result",
          "data": {
            "text/plain": [
              "array([[-6.14355051],\n",
              "       [ 3.77741766]])"
            ]
          },
          "metadata": {},
          "execution_count": 8
        }
      ]
    },
    {
      "cell_type": "code",
      "source": [
        "# predict the probabilities using the logistic regression function\n",
        "predit_proba_train = expit(X_b.dot(theta))\n",
        "y_train_pred = [True if proba >= 0.5 else False for proba in predit_proba_train]\n",
        "y_train = [True if y_val == 1 else False for y_val in y]"
      ],
      "metadata": {
        "id": "cHbGU29gez5Y"
      },
      "execution_count": 9,
      "outputs": []
    },
    {
      "cell_type": "code",
      "source": [
        "# Calculating confusion matrix ...\n",
        "\n",
        "from sklearn.metrics import confusion_matrix\n",
        "\n",
        "cf_mat = confusion_matrix(y_train, y_train_pred)\n",
        "print(cf_mat)\n",
        "# TP FP\n",
        "# FN TN"
      ],
      "metadata": {
        "colab": {
          "base_uri": "https://localhost:8080/"
        },
        "id": "N5dU4tE0htlN",
        "outputId": "4471e566-0c1f-479d-ea44-bc979e24d72d"
      },
      "execution_count": 10,
      "outputs": [
        {
          "output_type": "stream",
          "name": "stdout",
          "text": [
            "[[98  2]\n",
            " [ 4 46]]\n"
          ]
        }
      ]
    },
    {
      "cell_type": "code",
      "source": [
        "precision = cf_mat[0,0]/cf_mat[0].sum()\n",
        "recall = cf_mat[0,0]/(cf_mat[0,0] + cf_mat[1,0])\n",
        "f1_score = 2*precision*recall/(precision + recall)\n",
        "print(precision, recall, f1_score)\n",
        "\n",
        "# same can be done by just calling the methods\n",
        "# from sklearn.metrics import precision_score, recall_score, f1_score"
      ],
      "metadata": {
        "colab": {
          "base_uri": "https://localhost:8080/"
        },
        "id": "wZ22b0XQhtiU",
        "outputId": "678c5117-b527-4c37-93ed-3d2e0aa96e3e"
      },
      "execution_count": 11,
      "outputs": [
        {
          "output_type": "stream",
          "name": "stdout",
          "text": [
            "0.98 0.9607843137254902 0.9702970297029702\n"
          ]
        }
      ]
    },
    {
      "cell_type": "markdown",
      "source": [
        "#### Running the same with the logistic regression model from sklearn ..."
      ],
      "metadata": {
        "id": "cZ-WXwBTkrVG"
      }
    },
    {
      "cell_type": "code",
      "source": [
        "from sklearn.linear_model import LogisticRegression\n",
        "\n",
        "log_reg = LogisticRegression()\n",
        "log_reg.fit(X, y)\n",
        "y_train_pred_sklearn = log_reg.predict_proba(X)"
      ],
      "metadata": {
        "id": "680hJRCAhtff"
      },
      "execution_count": 47,
      "outputs": []
    },
    {
      "cell_type": "code",
      "source": [
        "# Note sklearn outputs two columns of probabilities - for 0 and 1, where p(0) = 1 - p(1) and vice-versa\n",
        "# it is a general convention to take the probabilities of 1.\n",
        "y_pred_sklearn = [True if proba >= 0.5 else False for proba in y_train_pred_sklearn[:,1]]\n"
      ],
      "metadata": {
        "id": "CpCHgBSUldkx"
      },
      "execution_count": 48,
      "outputs": []
    },
    {
      "cell_type": "code",
      "source": [
        "confusion_matrix(y_train, y_pred_sklearn) # same as our result!"
      ],
      "metadata": {
        "colab": {
          "base_uri": "https://localhost:8080/"
        },
        "id": "g-dBM5G7htcv",
        "outputId": "2c8586a1-fdf1-4f8d-d021-b0bcbc803d79"
      },
      "execution_count": 50,
      "outputs": [
        {
          "output_type": "execute_result",
          "data": {
            "text/plain": [
              "array([[98,  2],\n",
              "       [ 4, 46]])"
            ]
          },
          "metadata": {},
          "execution_count": 50
        }
      ]
    },
    {
      "cell_type": "markdown",
      "source": [
        "Choice of threshold ..."
      ],
      "metadata": {
        "id": "-0pQbygUcWA1"
      }
    },
    {
      "cell_type": "code",
      "source": [
        "from sklearn.metrics import precision_score, recall_score, f1_score\n",
        "import matplotlib.pyplot as plt\n",
        "\n",
        "\n",
        "threshold_list = np.arange(0.2,0.8,0.05)\n",
        "precision_list = []\n",
        "recall_list = []\n",
        "\n",
        "for threshold in threshold_list:\n",
        "  predictions = [True if proba >= threshold else False for proba in y_train_pred_sklearn[:,1]]\n",
        "  precision_list.append(precision_score(y_train, predictions))\n",
        "  recall_list.append(recall_score(y_train, predictions))\n",
        "\n",
        "plt.plot(threshold_list, precision_list)\n",
        "plt.plot(threshold_list, recall_list)\n",
        "plt.xlabel(\"threshold\")\n",
        "plt.legend([\"precision\", \"recall\"])\n",
        "plt.show()\n",
        "\n",
        "\n"
      ],
      "metadata": {
        "id": "EkOH8u1XcUIj",
        "outputId": "28ec88c7-16c1-45a2-9f74-1d771fc7430d",
        "colab": {
          "base_uri": "https://localhost:8080/",
          "height": 449
        }
      },
      "execution_count": 51,
      "outputs": [
        {
          "output_type": "display_data",
          "data": {
            "text/plain": [
              "<Figure size 640x480 with 1 Axes>"
            ],
            "image/png": "[encoded data removed]"
          },
          "metadata": {}
        }
      ]
    },
    {
      "cell_type": "code",
      "source": [
        "# In this case a balanced threshold is around 0.45/0.5 (visually) - need not be the best threshold, which depends on your requirement\n",
        "\n",
        "better_pred = [True if proba >= 0.5 else False for proba in y_train_pred_sklearn[:,1]]\n",
        "print(\"precision: \", precision_score(y_train, better_pred),\n",
        "      \"\\n\", \"recall: \", recall_score(y_train, better_pred),\n",
        "      \"\\n\" \"f1_score: \", f1_score(y_train, better_pred))"
      ],
      "metadata": {
        "id": "QiubnaZncUFN",
        "outputId": "cd2b2cd8-5880-463e-9940-b0a657172ab1",
        "colab": {
          "base_uri": "https://localhost:8080/"
        }
      },
      "execution_count": 55,
      "outputs": [
        {
          "output_type": "stream",
          "name": "stdout",
          "text": [
            "precision:  0.9583333333333334 \n",
            " recall:  0.92 \n",
            "f1_score:  0.9387755102040817\n"
          ]
        }
      ]
    },
    {
      "cell_type": "code",
      "source": [],
      "metadata": {
        "id": "WYETgf5qcUB2"
      },
      "execution_count": null,
      "outputs": []
    },
    {
      "cell_type": "code",
      "source": [],
      "metadata": {
        "id": "8JQ7FM_vcT-W"
      },
      "execution_count": null,
      "outputs": []
    },
    {
      "cell_type": "markdown",
      "source": [],
      "metadata": {
        "id": "UGeNCBq5cTid"
      }
    },
    {
      "cell_type": "markdown",
      "source": [
        "#### Assignment:\n",
        "1. Write and execute the corresponding codes for batch and mini-batch gradient descent. Compare precision, recall and f1_score.\n",
        "2. Take more than one feature (sepal_length, sepal_width, petal_length, petal_width) and try the same."
      ],
      "metadata": {
        "id": "uK_cSLdUl_GR"
      }
    },
    {
      "cell_type": "code",
      "source": [],
      "metadata": {
        "id": "0At0aq9Kez0K"
      },
      "execution_count": 14,
      "outputs": []
    },
    {
      "cell_type": "code",
      "source": [],
      "metadata": {
        "id": "4HFVbP69ezxf"
      },
      "execution_count": 14,
      "outputs": []
    },
    {
      "cell_type": "code",
      "source": [],
      "metadata": {
        "id": "1Pzrf5Ytezuk"
      },
      "execution_count": 14,
      "outputs": []
    },
    {
      "cell_type": "code",
      "source": [],
      "metadata": {
        "id": "eIqN70psiK0b"
      },
      "execution_count": 14,
      "outputs": []
    }
  ]
}