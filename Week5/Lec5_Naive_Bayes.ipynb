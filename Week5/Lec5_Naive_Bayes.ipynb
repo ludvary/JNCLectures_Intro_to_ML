{
  "nbformat": 4,
  "nbformat_minor": 0,
  "metadata": {
    "colab": {
      "provenance": [],
      "authorship_tag": "ABX9TyM/wrdJSLOr2Fdek2hbRd7z",
      "include_colab_link": true
    },
    "kernelspec": {
      "name": "python3",
      "display_name": "Python 3"
    },
    "language_info": {
      "name": "python"
    }
  },
  "cells": [
    {
      "cell_type": "markdown",
      "metadata": {
        "id": "view-in-github",
        "colab_type": "text"
      },
      "source": [
        "<a href=\"https://colab.research.google.com/github/rajdeepbanerjee-git/JNCLectures_Intro_to_ML/blob/main/Week5/Lec5_Naive_Bayes.ipynb\" target=\"_parent\"><img src=\"https://colab.research.google.com/assets/colab-badge.svg\" alt=\"Open In Colab\"/></a>"
      ]
    },
    {
      "cell_type": "code",
      "execution_count": 9,
      "metadata": {
        "id": "aXh067ciu_6B"
      },
      "outputs": [],
      "source": [
        "import numpy as np\n",
        "import pandas as pd\n",
        "from sklearn import datasets\n",
        "\n",
        "from scipy.stats import norm\n",
        "from numpy import mean\n",
        "from numpy import std\n",
        "\n",
        "import matplotlib.pyplot as plt"
      ]
    },
    {
      "cell_type": "code",
      "source": [
        "iris = datasets.load_iris()\n",
        "X = iris[\"data\"][:, 3:]  # petal width\n",
        "y = (iris[\"target\"] == 2).astype(int)  # 1 if Iris virginica, else 0"
      ],
      "metadata": {
        "id": "iCfvLHqIvCvW"
      },
      "execution_count": 2,
      "outputs": []
    },
    {
      "cell_type": "code",
      "source": [
        "def fit_distribution(data):\n",
        "  \"\"\" fit prob distribution to a feature vector\"\"\"\n",
        "  # estimate parameters\n",
        "  mu = mean(data)\n",
        "  sigma = std(data)\n",
        "  # fit distribution\n",
        "  dist = norm(mu, sigma)\n",
        "  return dist"
      ],
      "metadata": {
        "id": "yXRjlc2rvCs7"
      },
      "execution_count": 12,
      "outputs": []
    },
    {
      "cell_type": "code",
      "source": [
        "# let's see how the normal fit to X looks like\n",
        "norm_dist_test = fit_distribution(X)\n",
        "plt.hist((X-mean(X))/std(X), density = True)\n",
        "plt.scatter(X, norm_dist_test.pdf(X), color = 'red')\n",
        "plt.show()"
      ],
      "metadata": {
        "colab": {
          "base_uri": "https://localhost:8080/",
          "height": 430
        },
        "id": "KAmD0VIavCqT",
        "outputId": "473da28c-54ac-4bdd-af7c-92a210a5efbd"
      },
      "execution_count": 33,
      "outputs": [
        {
          "output_type": "display_data",
          "data": {
            "text/plain": [
              "<Figure size 640x480 with 1 Axes>"
            ],
            "image/png": "[encoded data removed]"
          },
          "metadata": {}
        }
      ]
    },
    {
      "cell_type": "code",
      "source": [
        "# calculate prior given X and y\n",
        "\n",
        "def calc_prior(X, y):\n",
        "\n",
        "  Xy_0 = X[y==0]\n",
        "  Xy_1 = X[y==1]\n",
        "\n",
        "  prior_0 = len(Xy_0)/len(X)\n",
        "  prior_1 = len(Xy_1)/len(X)\n",
        "\n",
        "  return prior_0, prior_1"
      ],
      "metadata": {
        "id": "36i4amwpwDse"
      },
      "execution_count": 37,
      "outputs": []
    },
    {
      "cell_type": "code",
      "source": [
        "prior_0, prior_1 = calc_prior(X=X, y=y)\n",
        "print(prior_0, prior_1)"
      ],
      "metadata": {
        "colab": {
          "base_uri": "https://localhost:8080/"
        },
        "id": "hBVYmpN3wDpn",
        "outputId": "fad0ccaa-4494-4d35-bbb3-28a9959f8f40"
      },
      "execution_count": 43,
      "outputs": [
        {
          "output_type": "stream",
          "name": "stdout",
          "text": [
            "0.6666666666666666 0.3333333333333333\n"
          ]
        }
      ]
    },
    {
      "cell_type": "code",
      "source": [
        "# for each feature for each class fit distribution\n",
        "# we have only one feature and two classes, Xy_0 and Xy_1\n",
        "# let's calculate their distributions\n",
        "\n",
        "Xy_0 = X[y==0]\n",
        "Xy_1 = X[y==1]\n",
        "\n",
        "dist_Xy0 = fit_distribution(Xy_0)\n",
        "dist_Xy1 = fit_distribution(Xy_1)\n",
        "\n"
      ],
      "metadata": {
        "id": "fhp-98Go1Yxx"
      },
      "execution_count": 39,
      "outputs": []
    },
    {
      "cell_type": "code",
      "source": [
        "# Now we will create a function which basically applies the Naive bayes rule\n",
        "# to calculate the conditional prob P(y=k | X)\n",
        "# note, if you have multiple features, you need to modify the function accordingly\n",
        "\n",
        "def calc_NB_prob(X_sample, prior, distribution):\n",
        "  return prior*distribution.pdf(X_sample)\n"
      ],
      "metadata": {
        "id": "k2QZ-iZo1YvC"
      },
      "execution_count": 41,
      "outputs": []
    },
    {
      "cell_type": "code",
      "source": [
        "# given X = X[0] = 0.2, calculate the probability of y = 0\n",
        "print(calc_NB_prob(X_sample = X[0], prior =  prior_0, distribution = dist_Xy0))\n",
        "\n",
        "# given X = X[0] = 0.2, calculate the probability of y = 1\n",
        "print(calc_NB_prob(X_sample = X[0], prior =  prior_1, distribution = dist_Xy1))"
      ],
      "metadata": {
        "colab": {
          "base_uri": "https://localhost:8080/"
        },
        "id": "lpEq5gbcwDmv",
        "outputId": "506fa6ad-5eae-4519-a368-baa545b6229b"
      },
      "execution_count": 46,
      "outputs": [
        {
          "output_type": "stream",
          "name": "stdout",
          "text": [
            "[0.27479845]\n",
            "[7.85531687e-11]\n"
          ]
        }
      ]
    },
    {
      "cell_type": "code",
      "source": [
        "# let us run over the whole training data and calculate probability of 0 and 1 for each\n",
        "results = []\n",
        "for i, data in enumerate(X):\n",
        "\n",
        "  pred_0 = calc_NB_prob(X_sample = X[i], prior =  prior_0, distribution = dist_Xy0)\n",
        "  pred_1 = calc_NB_prob(X_sample = X[i], prior =  prior_1, distribution = dist_Xy1)\n",
        "\n",
        "  if pred_0 > pred_1:\n",
        "    y_pred = 0\n",
        "  else:\n",
        "    y_pred = 1\n",
        "\n",
        "  results.append({\n",
        "      \"X\": X[i],\n",
        "      \"y\": y[i],\n",
        "      \"y_pred\": y_pred,\n",
        "      \"pred_0\": pred_0,\n",
        "      \"pred_1\": pred_1\n",
        "  })\n",
        "\n",
        "results_df = pd.DataFrame(results)"
      ],
      "metadata": {
        "id": "VfXTpQ8SwDjt"
      },
      "execution_count": 49,
      "outputs": []
    },
    {
      "cell_type": "code",
      "source": [
        "len(results_df[\"y\"] == results_df[\"y_pred\"])"
      ],
      "metadata": {
        "colab": {
          "base_uri": "https://localhost:8080/"
        },
        "id": "R_ZJZxrmwDg1",
        "outputId": "e7ba831f-1a43-4f4b-9903-75bd36141c32"
      },
      "execution_count": 52,
      "outputs": [
        {
          "output_type": "execute_result",
          "data": {
            "text/plain": [
              "150"
            ]
          },
          "metadata": {},
          "execution_count": 52
        }
      ]
    },
    {
      "cell_type": "markdown",
      "source": [
        "#### Assignment: modify the code to include more than one feature and check the results."
      ],
      "metadata": {
        "id": "0Ca_m0bE7PGP"
      }
    },
    {
      "cell_type": "code",
      "source": [],
      "metadata": {
        "id": "6f3tNe2SvCnx"
      },
      "execution_count": null,
      "outputs": []
    },
    {
      "cell_type": "code",
      "source": [],
      "metadata": {
        "id": "VGWfKIeXvClE"
      },
      "execution_count": null,
      "outputs": []
    },
    {
      "cell_type": "code",
      "source": [],
      "metadata": {
        "id": "TtcxCh9TvCiV"
      },
      "execution_count": null,
      "outputs": []
    },
    {
      "cell_type": "code",
      "source": [],
      "metadata": {
        "id": "kDdppovHvCft"
      },
      "execution_count": null,
      "outputs": []
    },
    {
      "cell_type": "code",
      "source": [],
      "metadata": {
        "id": "djW5fysHvCc2"
      },
      "execution_count": null,
      "outputs": []
    }
  ]
}